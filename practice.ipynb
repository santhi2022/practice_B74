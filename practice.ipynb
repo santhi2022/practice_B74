{
 "cells": [
  {
   "cell_type": "code",
   "execution_count": 1,
   "id": "e14db31f",
   "metadata": {},
   "outputs": [
    {
     "name": "stdout",
     "output_type": "stream",
     "text": [
      "['ravi', 'divya', 'sadiya', 'naveen', 'ahmed', 'suresh']\n"
     ]
    }
   ],
   "source": [
    "students=['ravi','divya','sadiya','naveen','ahmed','suresh']\n",
    "print(students)"
   ]
  },
  {
   "cell_type": "code",
   "execution_count": 3,
   "id": "9ecf3aab",
   "metadata": {},
   "outputs": [
    {
     "name": "stdout",
     "output_type": "stream",
     "text": [
      "['ahmed', 'divya', 'naveen', 'ravi', 'sadiya', 'suresh']\n"
     ]
    }
   ],
   "source": [
    "students.sort()\n",
    "print(students)"
   ]
  },
  {
   "cell_type": "code",
   "execution_count": 4,
   "id": "d9e0a615",
   "metadata": {},
   "outputs": [
    {
     "name": "stdout",
     "output_type": "stream",
     "text": [
      "['ahmed', 'divya', 'naveen', 'ravi', 'sadiya', 'suresh']\n"
     ]
    }
   ],
   "source": [
    "print(sorted(students))"
   ]
  },
  {
   "cell_type": "code",
   "execution_count": 5,
   "id": "4c33f923",
   "metadata": {},
   "outputs": [
    {
     "name": "stdout",
     "output_type": "stream",
     "text": [
      "['suresh', 'sadiya', 'ravi', 'naveen', 'divya', 'ahmed']\n"
     ]
    }
   ],
   "source": [
    "students.reverse()\n",
    "print(students)"
   ]
  },
  {
   "cell_type": "code",
   "execution_count": 6,
   "id": "b3c122c4",
   "metadata": {},
   "outputs": [
    {
     "data": {
      "text/plain": [
       "6"
      ]
     },
     "execution_count": 6,
     "metadata": {},
     "output_type": "execute_result"
    }
   ],
   "source": [
    "len(students)"
   ]
  },
  {
   "cell_type": "code",
   "execution_count": 7,
   "id": "e3c6dd48",
   "metadata": {},
   "outputs": [
    {
     "data": {
      "text/plain": [
       "list"
      ]
     },
     "execution_count": 7,
     "metadata": {},
     "output_type": "execute_result"
    }
   ],
   "source": [
    "type(students)"
   ]
  },
  {
   "cell_type": "code",
   "execution_count": 8,
   "id": "a0001cfe",
   "metadata": {},
   "outputs": [
    {
     "name": "stdout",
     "output_type": "stream",
     "text": [
      "8\n"
     ]
    }
   ],
   "source": [
    "a=3\n",
    "b=5\n",
    "c=a+b\n",
    "print(c)"
   ]
  },
  {
   "cell_type": "code",
   "execution_count": 9,
   "id": "cdb76cb7",
   "metadata": {},
   "outputs": [
    {
     "data": {
      "text/plain": [
       "int"
      ]
     },
     "execution_count": 9,
     "metadata": {},
     "output_type": "execute_result"
    }
   ],
   "source": [
    "type(c)"
   ]
  },
  {
   "cell_type": "code",
   "execution_count": 10,
   "id": "5ec8bd94",
   "metadata": {},
   "outputs": [
    {
     "name": "stdout",
     "output_type": "stream",
     "text": [
      "Santhi\n"
     ]
    }
   ],
   "source": [
    "firstname='Santhi'\n",
    "print(firstname)"
   ]
  },
  {
   "cell_type": "code",
   "execution_count": 11,
   "id": "b5cc0120",
   "metadata": {},
   "outputs": [
    {
     "data": {
      "text/plain": [
       "str"
      ]
     },
     "execution_count": 11,
     "metadata": {},
     "output_type": "execute_result"
    }
   ],
   "source": [
    "type(firstname)"
   ]
  },
  {
   "cell_type": "code",
   "execution_count": 12,
   "id": "3c9f1eff",
   "metadata": {},
   "outputs": [
    {
     "name": "stdout",
     "output_type": "stream",
     "text": [
      "['ravi', 'divya', 'sadiya', 'naveen', 'ahmed', 'suresh']\n"
     ]
    }
   ],
   "source": [
    "students=['ravi','divya','sadiya','naveen','ahmed','suresh']\n",
    "print(students)"
   ]
  },
  {
   "cell_type": "code",
   "execution_count": 13,
   "id": "fd546518",
   "metadata": {},
   "outputs": [
    {
     "name": "stdout",
     "output_type": "stream",
     "text": [
      "['ravi', 'divya', 'sadiya', 'naveen', 'ahmed', 'suresh', 'BUJJI']\n"
     ]
    }
   ],
   "source": [
    "students.append('BUJJI')\n",
    "print(students)"
   ]
  },
  {
   "cell_type": "code",
   "execution_count": 14,
   "id": "120f76c3",
   "metadata": {},
   "outputs": [
    {
     "name": "stdout",
     "output_type": "stream",
     "text": [
      "['ravi', 'divya', 'Swarna', 'sadiya', 'naveen', 'ahmed', 'suresh', 'BUJJI']\n"
     ]
    }
   ],
   "source": [
    "students.insert(2,'Swarna')\n",
    "print(students)"
   ]
  },
  {
   "cell_type": "code",
   "execution_count": 15,
   "id": "95df2167",
   "metadata": {},
   "outputs": [
    {
     "ename": "SyntaxError",
     "evalue": "unmatched ')' (3779531069.py, line 1)",
     "output_type": "error",
     "traceback": [
      "\u001b[1;36m  Input \u001b[1;32mIn [15]\u001b[1;36m\u001b[0m\n\u001b[1;33m    students[0]='kiranmai')\u001b[0m\n\u001b[1;37m                          ^\u001b[0m\n\u001b[1;31mSyntaxError\u001b[0m\u001b[1;31m:\u001b[0m unmatched ')'\n"
     ]
    }
   ],
   "source": [
    "students[0]='kiranmai'\n",
    "print(students)"
   ]
  },
  {
   "cell_type": "code",
   "execution_count": 16,
   "id": "b5c7d5d1",
   "metadata": {},
   "outputs": [
    {
     "name": "stdout",
     "output_type": "stream",
     "text": [
      "['kiranmai', 'divya', 'Swarna', 'sadiya', 'naveen', 'ahmed', 'suresh', 'BUJJI']\n"
     ]
    }
   ],
   "source": [
    "students[0]='kiranmai'\n",
    "print(students)"
   ]
  },
  {
   "cell_type": "code",
   "execution_count": 17,
   "id": "2b4d020d",
   "metadata": {},
   "outputs": [
    {
     "name": "stdout",
     "output_type": "stream",
     "text": [
      "['kiranmai', 'Swarna', 'sadiya', 'naveen', 'ahmed', 'suresh', 'BUJJI']\n"
     ]
    }
   ],
   "source": [
    "del(students[1])\n",
    "print(students)"
   ]
  },
  {
   "cell_type": "code",
   "execution_count": 18,
   "id": "b0795c56",
   "metadata": {},
   "outputs": [
    {
     "name": "stdout",
     "output_type": "stream",
     "text": [
      "['Swarna', 'sadiya']\n"
     ]
    }
   ],
   "source": [
    "print(students[1:3])"
   ]
  },
  {
   "cell_type": "code",
   "execution_count": 19,
   "id": "8066f3d0",
   "metadata": {},
   "outputs": [
    {
     "name": "stdout",
     "output_type": "stream",
     "text": [
      "['kiranmai', 'Swarna']\n"
     ]
    }
   ],
   "source": [
    "print(students[0:2])"
   ]
  },
  {
   "cell_type": "code",
   "execution_count": 20,
   "id": "8c51bed7",
   "metadata": {},
   "outputs": [
    {
     "name": "stdout",
     "output_type": "stream",
     "text": [
      "['kiranmai', 'sadiya', 'ahmed', 'BUJJI']\n"
     ]
    }
   ],
   "source": [
    "print(students[0:7:2])"
   ]
  },
  {
   "cell_type": "code",
   "execution_count": 21,
   "id": "56278414",
   "metadata": {},
   "outputs": [
    {
     "name": "stdout",
     "output_type": "stream",
     "text": [
      "['kiranmai', 'naveen', 'BUJJI']\n"
     ]
    }
   ],
   "source": [
    "print(students[0:7:3])"
   ]
  },
  {
   "cell_type": "code",
   "execution_count": 26,
   "id": "b95781b1",
   "metadata": {},
   "outputs": [
    {
     "name": "stdout",
     "output_type": "stream",
     "text": [
      "   Santhi\n"
     ]
    }
   ],
   "source": [
    "firstname='   Santhi'\n",
    "firstname.lstrip()\n",
    "print(firstname)"
   ]
  },
  {
   "cell_type": "code",
   "execution_count": 27,
   "id": "997cfda5",
   "metadata": {},
   "outputs": [
    {
     "name": "stdout",
     "output_type": "stream",
     "text": [
      "Santhi   \n"
     ]
    }
   ],
   "source": [
    "firstname='Santhi   '\n",
    "firstname.rstrip()\n",
    "print(firstname)"
   ]
  },
  {
   "cell_type": "code",
   "execution_count": 30,
   "id": "703214b1",
   "metadata": {},
   "outputs": [
    {
     "data": {
      "text/plain": [
       "'Santhi'"
      ]
     },
     "execution_count": 30,
     "metadata": {},
     "output_type": "execute_result"
    }
   ],
   "source": [
    "firstname='  Santhi   '\n",
    "firstname.strip()"
   ]
  },
  {
   "cell_type": "code",
   "execution_count": 29,
   "id": "4a7e6159",
   "metadata": {},
   "outputs": [
    {
     "data": {
      "text/plain": [
       "'Santhi'"
      ]
     },
     "execution_count": 29,
     "metadata": {},
     "output_type": "execute_result"
    }
   ],
   "source": [
    "firstname='Santhi   '\n",
    "firstname.rstrip()"
   ]
  },
  {
   "cell_type": "code",
   "execution_count": 31,
   "id": "bce79634",
   "metadata": {},
   "outputs": [
    {
     "name": "stdout",
     "output_type": "stream",
     "text": [
      "['ravi', 'divya', 'sadiya', 'naveen', 'ahmed', 'suresh']\n"
     ]
    }
   ],
   "source": [
    "students=['ravi','divya','sadiya','naveen','ahmed','suresh']\n",
    "print(students)"
   ]
  },
  {
   "cell_type": "code",
   "execution_count": 32,
   "id": "08891665",
   "metadata": {},
   "outputs": [
    {
     "name": "stdout",
     "output_type": "stream",
     "text": [
      "['ravi', 'divya', 'sadiya', 'naveen', 'ahmed']\n"
     ]
    }
   ],
   "source": [
    "X=students.pop()\n",
    "print(students)"
   ]
  },
  {
   "cell_type": "code",
   "execution_count": 33,
   "id": "d1adc471",
   "metadata": {},
   "outputs": [
    {
     "name": "stdout",
     "output_type": "stream",
     "text": [
      "suresh\n"
     ]
    }
   ],
   "source": [
    "print(X)"
   ]
  },
  {
   "cell_type": "code",
   "execution_count": 34,
   "id": "71181467",
   "metadata": {},
   "outputs": [
    {
     "name": "stdout",
     "output_type": "stream",
     "text": [
      "ahmed\n"
     ]
    }
   ],
   "source": [
    "print(students[-1])"
   ]
  },
  {
   "cell_type": "code",
   "execution_count": 35,
   "id": "783da3d0",
   "metadata": {},
   "outputs": [
    {
     "name": "stdout",
     "output_type": "stream",
     "text": [
      "sadiya\n"
     ]
    }
   ],
   "source": [
    "print(students[-3])"
   ]
  },
  {
   "cell_type": "code",
   "execution_count": 36,
   "id": "cbc0d44e",
   "metadata": {},
   "outputs": [
    {
     "name": "stdout",
     "output_type": "stream",
     "text": [
      "['ravi', 'divya', 'sadiya', 'naveen', 'ahmed', 'suresh']\n"
     ]
    }
   ],
   "source": [
    "\n",
    "students=['ravi','divya','sadiya','naveen','ahmed','suresh']\n",
    "print(students)\n"
   ]
  },
  {
   "cell_type": "code",
   "execution_count": 40,
   "id": "177be773",
   "metadata": {},
   "outputs": [
    {
     "name": "stdout",
     "output_type": "stream",
     "text": [
      "keep up the good work,ravi\n",
      "\n",
      "keep up the good work,divya\n",
      "\n",
      "keep up the good work,sadiya\n",
      "\n",
      "keep up the good work,naveen\n",
      "\n",
      "keep up the good work,ahmed\n",
      "\n",
      "keep up the good work,suresh\n",
      "\n"
     ]
    }
   ],
   "source": [
    "for X in students:\n",
    "    print(f\"keep up the good work,{X}\\n\")"
   ]
  },
  {
   "cell_type": "code",
   "execution_count": 43,
   "id": "16f59a82",
   "metadata": {},
   "outputs": [
    {
     "name": "stdout",
     "output_type": "stream",
     "text": [
      "keep up the good work,ravi\n",
      "hardworker,ravi\n",
      "\n",
      "Thank u all\n",
      "keep up the good work,divya\n",
      "hardworker,divya\n",
      "\n",
      "Thank u all\n",
      "keep up the good work,sadiya\n",
      "hardworker,sadiya\n",
      "\n",
      "Thank u all\n",
      "keep up the good work,naveen\n",
      "hardworker,naveen\n",
      "\n",
      "Thank u all\n",
      "keep up the good work,ahmed\n",
      "hardworker,ahmed\n",
      "\n",
      "Thank u all\n",
      "keep up the good work,suresh\n",
      "hardworker,suresh\n",
      "\n",
      "Thank u all\n"
     ]
    }
   ],
   "source": [
    "for X in students:\n",
    "    print(f\"keep up the good work,{X}\")\n",
    "    print(f\"hardworker,{X}\\n\")\n",
    "    print(\"Thank u all\")"
   ]
  },
  {
   "cell_type": "code",
   "execution_count": 47,
   "id": "6edb5acf",
   "metadata": {},
   "outputs": [
    {
     "name": "stdout",
     "output_type": "stream",
     "text": [
      "{'color': 'green', 'points': 5, 'level': 1}\n"
     ]
    }
   ],
   "source": [
    "aliens = {'color':'green','points':5,'level':1}\n",
    "print(aliens)"
   ]
  },
  {
   "cell_type": "code",
   "execution_count": 48,
   "id": "dce65f90",
   "metadata": {},
   "outputs": [
    {
     "data": {
      "text/plain": [
       "dict"
      ]
     },
     "execution_count": 48,
     "metadata": {},
     "output_type": "execute_result"
    }
   ],
   "source": [
    "type(aliens)"
   ]
  },
  {
   "cell_type": "code",
   "execution_count": 57,
   "id": "7652ec94",
   "metadata": {},
   "outputs": [
    {
     "name": "stdout",
     "output_type": "stream",
     "text": [
      "color\n"
     ]
    },
    {
     "ename": "NameError",
     "evalue": "name 'Print' is not defined",
     "output_type": "error",
     "traceback": [
      "\u001b[1;31m---------------------------------------------------------------------------\u001b[0m",
      "\u001b[1;31mNameError\u001b[0m                                 Traceback (most recent call last)",
      "Input \u001b[1;32mIn [57]\u001b[0m, in \u001b[0;36m<cell line: 2>\u001b[1;34m()\u001b[0m\n\u001b[0;32m      2\u001b[0m \u001b[38;5;28;01mfor\u001b[39;00m X,Y \u001b[38;5;129;01min\u001b[39;00m aliens\u001b[38;5;241m.\u001b[39mitems():\n\u001b[0;32m      3\u001b[0m     \u001b[38;5;28mprint\u001b[39m(X)\n\u001b[1;32m----> 4\u001b[0m     \u001b[43mPrint\u001b[49m(Y)\n",
      "\u001b[1;31mNameError\u001b[0m: name 'Print' is not defined"
     ]
    }
   ],
   "source": [
    "aliens={'color':'green','points':5,'level':1}\n",
    "for X,Y in aliens.items():\n",
    "    print(X)\n",
    "    print(Y)"
   ]
  },
  {
   "cell_type": "code",
   "execution_count": 52,
   "id": "f2e119d0",
   "metadata": {},
   "outputs": [
    {
     "name": "stdout",
     "output_type": "stream",
     "text": [
      "color\n"
     ]
    },
    {
     "ename": "NameError",
     "evalue": "name 'Print' is not defined",
     "output_type": "error",
     "traceback": [
      "\u001b[1;31m---------------------------------------------------------------------------\u001b[0m",
      "\u001b[1;31mNameError\u001b[0m                                 Traceback (most recent call last)",
      "Input \u001b[1;32mIn [52]\u001b[0m, in \u001b[0;36m<cell line: 1>\u001b[1;34m()\u001b[0m\n\u001b[0;32m      1\u001b[0m \u001b[38;5;28;01mfor\u001b[39;00m X,Y \u001b[38;5;129;01min\u001b[39;00m aliens\u001b[38;5;241m.\u001b[39mitems():\n\u001b[0;32m      2\u001b[0m     \u001b[38;5;28mprint\u001b[39m(X)\n\u001b[1;32m----> 3\u001b[0m     \u001b[43mPrint\u001b[49m(Y)\n",
      "\u001b[1;31mNameError\u001b[0m: name 'Print' is not defined"
     ]
    }
   ],
   "source": [
    "for X,Y in aliens.items():\n",
    "    print(X)\n",
    "    Print(Y)"
   ]
  },
  {
   "cell_type": "code",
   "execution_count": 53,
   "id": "6f3b0518",
   "metadata": {},
   "outputs": [
    {
     "name": "stdout",
     "output_type": "stream",
     "text": [
      "color\n"
     ]
    },
    {
     "ename": "NameError",
     "evalue": "name 'Print' is not defined",
     "output_type": "error",
     "traceback": [
      "\u001b[1;31m---------------------------------------------------------------------------\u001b[0m",
      "\u001b[1;31mNameError\u001b[0m                                 Traceback (most recent call last)",
      "Input \u001b[1;32mIn [53]\u001b[0m, in \u001b[0;36m<cell line: 1>\u001b[1;34m()\u001b[0m\n\u001b[0;32m      1\u001b[0m \u001b[38;5;28;01mfor\u001b[39;00m X,Y \u001b[38;5;129;01min\u001b[39;00m aliens\u001b[38;5;241m.\u001b[39mitems():\n\u001b[0;32m      2\u001b[0m     \u001b[38;5;28mprint\u001b[39m(X)\n\u001b[1;32m----> 3\u001b[0m     \u001b[43mPrint\u001b[49m(Y)\n",
      "\u001b[1;31mNameError\u001b[0m: name 'Print' is not defined"
     ]
    }
   ],
   "source": [
    "for X,Y in aliens.items():\n",
    "    print(X)\n",
    "    Print(Y)"
   ]
  },
  {
   "cell_type": "code",
   "execution_count": null,
   "id": "5afccc71",
   "metadata": {},
   "outputs": [],
   "source": []
  },
  {
   "cell_type": "code",
   "execution_count": 56,
   "id": "bb4d7996",
   "metadata": {},
   "outputs": [
    {
     "name": "stdout",
     "output_type": "stream",
     "text": [
      "key:color\n",
      "value:green\n",
      "key:points\n",
      "value:5\n",
      "key:level\n",
      "value:1\n"
     ]
    }
   ],
   "source": [
    "for X,Y in aliens.items():\n",
    "    print(f\"key:{X}\")\n",
    "    print(f\"value:{Y}\")"
   ]
  },
  {
   "cell_type": "code",
   "execution_count": 58,
   "id": "8ccf64cf",
   "metadata": {},
   "outputs": [
    {
     "name": "stdout",
     "output_type": "stream",
     "text": [
      "color\n",
      "green\n",
      "points\n",
      "5\n",
      "level\n",
      "1\n"
     ]
    }
   ],
   "source": [
    "aliens = {'color':'green','points':5,'level':1}\n",
    "for X,Y in aliens.items():\n",
    "    print(X)\n",
    "    print(Y)"
   ]
  },
  {
   "cell_type": "code",
   "execution_count": 60,
   "id": "ecec8f33",
   "metadata": {},
   "outputs": [
    {
     "name": "stdout",
     "output_type": "stream",
     "text": [
      "color\n",
      "green\n",
      "points\n",
      "5\n",
      "level\n",
      "1\n"
     ]
    }
   ],
   "source": [
    "for X,Y in aliens.items():\n",
    "    print(X)\n",
    "    print(Y)"
   ]
  },
  {
   "cell_type": "code",
   "execution_count": 62,
   "id": "936ab2a2",
   "metadata": {},
   "outputs": [
    {
     "name": "stdout",
     "output_type": "stream",
     "text": [
      "key:color\n",
      "value:green\n",
      "key:points\n",
      "value:5\n",
      "key:level\n",
      "value:1\n"
     ]
    }
   ],
   "source": [
    "for X,Y in aliens.items():\n",
    "    print(f\"key:{X}\")\n",
    "    print(f\"value:{Y}\")"
   ]
  },
  {
   "cell_type": "code",
   "execution_count": 63,
   "id": "cfa499ba",
   "metadata": {},
   "outputs": [
    {
     "name": "stdout",
     "output_type": "stream",
     "text": [
      "key:color\n",
      "value:green\n",
      "\n",
      "key:points\n",
      "value:5\n",
      "\n",
      "key:level\n",
      "value:1\n",
      "\n"
     ]
    }
   ],
   "source": [
    "for X,Y in aliens.items():\n",
    "    print(f\"key:{X}\")\n",
    "    print(f\"value:{Y}\\n\")"
   ]
  },
  {
   "cell_type": "code",
   "execution_count": 66,
   "id": "004a3b86",
   "metadata": {},
   "outputs": [
    {
     "name": "stdout",
     "output_type": "stream",
     "text": [
      "{'color': 'green', 'points': 5, 'level': 1, 'start_position': 0, 'pwd': 12345}\n"
     ]
    }
   ],
   "source": [
    "aliens={'color':'green','points':5,'level':1}\n",
    "aliens['start_position']=0\n",
    "aliens['pwd']=12345\n",
    "print(aliens)"
   ]
  },
  {
   "cell_type": "code",
   "execution_count": 67,
   "id": "8592f560",
   "metadata": {},
   "outputs": [
    {
     "name": "stdout",
     "output_type": "stream",
     "text": [
      "{'color': 'white', 'points': 5, 'level': 1}\n"
     ]
    }
   ],
   "source": [
    "aliens={'color':'green','points':5,'level':1}\n",
    "aliens['color']='white'\n",
    "print(aliens)"
   ]
  },
  {
   "cell_type": "code",
   "execution_count": 68,
   "id": "c543446a",
   "metadata": {},
   "outputs": [
    {
     "name": "stdout",
     "output_type": "stream",
     "text": [
      "{'color': 'white', 'points': 5}\n"
     ]
    }
   ],
   "source": [
    "del aliens['level']\n",
    "print(aliens)"
   ]
  },
  {
   "cell_type": "code",
   "execution_count": 69,
   "id": "1755e24e",
   "metadata": {},
   "outputs": [
    {
     "name": "stdout",
     "output_type": "stream",
     "text": [
      "{'color': 'green', 'points': 5, 'level': 1, 'start_position': 0, 'pwd': 12345}\n"
     ]
    }
   ],
   "source": [
    "aliens={'color':'green','points':5,'level':1}\n",
    "aliens['start_position']=0\n",
    "aliens['pwd']=12345\n",
    "print(aliens)"
   ]
  },
  {
   "cell_type": "code",
   "execution_count": 70,
   "id": "6b44dca4",
   "metadata": {},
   "outputs": [
    {
     "name": "stdout",
     "output_type": "stream",
     "text": [
      "color\n",
      "green\n",
      "points\n",
      "5\n",
      "level\n",
      "1\n",
      "start_position\n",
      "0\n",
      "pwd\n",
      "12345\n"
     ]
    }
   ],
   "source": [
    "for x,y in aliens.items():\n",
    "    print(x)\n",
    "    print(y)"
   ]
  },
  {
   "cell_type": "code",
   "execution_count": 72,
   "id": "71380373",
   "metadata": {},
   "outputs": [
    {
     "name": "stdout",
     "output_type": "stream",
     "text": [
      "key:color\n",
      "value:green\n",
      "\n",
      "key:points\n",
      "value:5\n",
      "\n",
      "key:level\n",
      "value:1\n",
      "\n",
      "key:start_position\n",
      "value:0\n",
      "\n",
      "key:pwd\n",
      "value:12345\n",
      "\n"
     ]
    }
   ],
   "source": [
    "for x,y in aliens.items():\n",
    "    print(f\"key:{x}\")\n",
    "    print(f\"value:{y}\\n\")"
   ]
  },
  {
   "cell_type": "code",
   "execution_count": null,
   "id": "b9a70fb4",
   "metadata": {},
   "outputs": [],
   "source": []
  }
 ],
 "metadata": {
  "kernelspec": {
   "display_name": "Python 3 (ipykernel)",
   "language": "python",
   "name": "python3"
  },
  "language_info": {
   "codemirror_mode": {
    "name": "ipython",
    "version": 3
   },
   "file_extension": ".py",
   "mimetype": "text/x-python",
   "name": "python",
   "nbconvert_exporter": "python",
   "pygments_lexer": "ipython3",
   "version": "3.9.12"
  }
 },
 "nbformat": 4,
 "nbformat_minor": 5
}
